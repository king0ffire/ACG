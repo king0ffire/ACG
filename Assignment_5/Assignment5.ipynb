{
 "cells": [
  {
   "cell_type": "code",
   "execution_count": 1,
   "id": "local-investor",
   "metadata": {},
   "outputs": [
    {
     "name": "stderr",
     "output_type": "stream",
     "text": [
      "/home/m/miniconda3/envs/gp/lib/python3.10/site-packages/igl/helpers.py:11: UserWarning: A NumPy version >=1.22.4 and <2.3.0 is required for this version of SciPy (detected version 1.22.3)\n",
      "  from scipy import sparse\n"
     ]
    }
   ],
   "source": [
    "import numpy as np\n",
    "import igl\n",
    "import meshplot as mp\n",
    "from scipy.spatial.transform import Rotation\n",
    "import ipywidgets as iw\n",
    "import time\n",
    "from scipy.sparse import csc_matrix,diags\n",
    "from scipy.sparse.linalg import spsolve,inv"
   ]
  },
  {
   "cell_type": "code",
   "execution_count": 2,
   "id": "pharmaceutical-transsexual",
   "metadata": {},
   "outputs": [],
   "source": [
    "v, f = igl.read_triangle_mesh('data/hand.off')\n",
    "labels = np.load('data/hand.label.npy').astype(int)\n",
    "v -= v.min(axis=0)\n",
    "v /= v.max()"
   ]
  },
  {
   "cell_type": "code",
   "execution_count": 3,
   "id": "tight-course",
   "metadata": {},
   "outputs": [],
   "source": [
    "handle_vertex_positions = v.copy()\n",
    "pos_f_saver = np.zeros((labels.max() + 1, 6))\n",
    "def pos_f(s,x,y,z, α, β, γ):\n",
    "    slices = (labels==s)\n",
    "    r = Rotation.from_euler('xyz', [α, β, γ], degrees=True)\n",
    "    v_slice = v[slices] + np.array([[x,y,z]])\n",
    "    center = v_slice.mean(axis=0)\n",
    "    handle_vertex_positions[slices] = r.apply(v_slice - center) + center\n",
    "    pos_f_saver[s - 1] = [x,y,z,α,β,γ]\n",
    "    t0 = time.time()\n",
    "    v_deformed = pos_f.deformer(handle_vertex_positions)\n",
    "    p.update_object(vertices = v_deformed)\n",
    "    t1 = time.time()\n",
    "    print('FPS', 1/(t1 - t0))\n",
    "#pos_f.deformer = lambda x:x"
   ]
  },
  {
   "cell_type": "code",
   "execution_count": 4,
   "id": "stone-element",
   "metadata": {},
   "outputs": [],
   "source": [
    "def widgets_wrapper():\n",
    "    segment_widget = iw.Dropdown(options=np.arange(labels.max()) + 1)\n",
    "    translate_widget = {i:iw.FloatSlider(min=-1, max=1, value=0) \n",
    "                        for i in 'xyz'}\n",
    "    rotate_widget = {a:iw.FloatSlider(min=-90, max=90, value=0, step=1) \n",
    "                     for a in 'αβγ'}\n",
    "\n",
    "    def update_seg(*args):\n",
    "        (translate_widget['x'].value,translate_widget['y'].value,\n",
    "        translate_widget['z'].value,\n",
    "        rotate_widget['α'].value,rotate_widget['β'].value,\n",
    "        rotate_widget['γ'].value) = pos_f_saver[segment_widget.value]\n",
    "    segment_widget.observe(update_seg, 'value')\n",
    "    widgets_dict = dict(s=segment_widget)\n",
    "    widgets_dict.update(translate_widget)\n",
    "    widgets_dict.update(rotate_widget)\n",
    "    return widgets_dict"
   ]
  },
  {
   "cell_type": "code",
   "execution_count": 9,
   "id": "divine-variety",
   "metadata": {},
   "outputs": [],
   "source": [
    "def position_deformer(target_pos):\n",
    "    slices = np.where(labels>0)[0]\n",
    "    mass_mat=igl.massmatrix(target_pos,f)\n",
    "    M=mass_mat\n",
    "    cot_mat=csc_matrix(igl.cotmatrix(target_pos,f))\n",
    "    A=cot_mat@inv(M)@cot_mat\n",
    "    #b=np.zeros_like(target_pos)\n",
    "    b = csc_matrix((target_pos.shape[0], target_pos.shape[1]), dtype=np.float64)\n",
    "    b=-(A[:,slices]@target_pos[slices])\n",
    "    A=A.tolil()\n",
    "    b=b.tolil()\n",
    "    A[slices,:]=0\n",
    "    A[:,slices]=0\n",
    "    b[slices,:]=0 #I think it doesnot matter if this is commented\n",
    "    A=A.tocsc()\n",
    "    b=b.tocsc()\n",
    "    x = spsolve(A,b)\n",
    "    x[slices]=target_pos[slices] #x[slices] should original be 0\n",
    "\n",
    "    return x\n",
    "\n",
    "pos_f.deformer = position_deformer\n"
   ]
  },
  {
   "cell_type": "code",
   "execution_count": 10,
   "id": "proprietary-prediction",
   "metadata": {},
   "outputs": [
    {
     "ename": "AttributeError",
     "evalue": "'numpy.ndarray' object has no attribute 'tolil'",
     "output_type": "error",
     "traceback": [
      "\u001b[0;31m---------------------------------------------------------------------------\u001b[0m",
      "\u001b[0;31mAttributeError\u001b[0m                            Traceback (most recent call last)",
      "Cell \u001b[0;32mIn[10], line 2\u001b[0m\n\u001b[1;32m      1\u001b[0m \u001b[38;5;66;03m## Widget UI\u001b[39;00m\n\u001b[0;32m----> 2\u001b[0m handle_vertex_positions\u001b[38;5;241m=\u001b[39m\u001b[43mposition_deformer\u001b[49m\u001b[43m(\u001b[49m\u001b[43mhandle_vertex_positions\u001b[49m\u001b[43m)\u001b[49m\n\u001b[1;32m      3\u001b[0m p \u001b[38;5;241m=\u001b[39m mp\u001b[38;5;241m.\u001b[39mplot(handle_vertex_positions, f, c\u001b[38;5;241m=\u001b[39mlabels)\n\u001b[1;32m      4\u001b[0m iw\u001b[38;5;241m.\u001b[39minteract(pos_f,\n\u001b[1;32m      5\u001b[0m             \u001b[38;5;241m*\u001b[39m\u001b[38;5;241m*\u001b[39mwidgets_wrapper())\n",
      "Cell \u001b[0;32mIn[9], line 11\u001b[0m, in \u001b[0;36mposition_deformer\u001b[0;34m(target_pos)\u001b[0m\n\u001b[1;32m      9\u001b[0m b\u001b[38;5;241m=\u001b[39m\u001b[38;5;241m-\u001b[39m(A[:,slices]\u001b[38;5;129m@target_pos\u001b[39m[slices])\n\u001b[1;32m     10\u001b[0m A\u001b[38;5;241m=\u001b[39mA\u001b[38;5;241m.\u001b[39mtolil()\n\u001b[0;32m---> 11\u001b[0m b\u001b[38;5;241m=\u001b[39m\u001b[43mb\u001b[49m\u001b[38;5;241;43m.\u001b[39;49m\u001b[43mtolil\u001b[49m()\n\u001b[1;32m     12\u001b[0m A[slices,:]\u001b[38;5;241m=\u001b[39m\u001b[38;5;241m0\u001b[39m\n\u001b[1;32m     13\u001b[0m A[:,slices]\u001b[38;5;241m=\u001b[39m\u001b[38;5;241m0\u001b[39m\n",
      "\u001b[0;31mAttributeError\u001b[0m: 'numpy.ndarray' object has no attribute 'tolil'"
     ]
    }
   ],
   "source": [
    "## Widget UI\n",
    "handle_vertex_positions=position_deformer(handle_vertex_positions)\n",
    "p = mp.plot(handle_vertex_positions, f, c=labels)\n",
    "iw.interact(pos_f,\n",
    "            **widgets_wrapper())"
   ]
  },
  {
   "cell_type": "code",
   "execution_count": null,
   "id": "3f5a289c-0a70-4493-bcca-62d67036a61e",
   "metadata": {},
   "outputs": [],
   "source": []
  }
 ],
 "metadata": {
  "kernelspec": {
   "display_name": "Python 3 (ipykernel)",
   "language": "python",
   "name": "python3"
  },
  "language_info": {
   "codemirror_mode": {
    "name": "ipython",
    "version": 3
   },
   "file_extension": ".py",
   "mimetype": "text/x-python",
   "name": "python",
   "nbconvert_exporter": "python",
   "pygments_lexer": "ipython3",
   "version": "3.10.14"
  }
 },
 "nbformat": 4,
 "nbformat_minor": 5
}
